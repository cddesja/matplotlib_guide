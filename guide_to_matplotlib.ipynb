{
  "cells": [
    {
      "cell_type": "raw",
      "metadata": {},
      "source": [
        "---\n",
        "title: \"A Guide to Visualizing Data with Matplotlib\"\n",
        "format: html\n",
        "---"
      ],
      "id": "2a91a6b9"
    },
    {
      "cell_type": "markdown",
      "metadata": {},
      "source": [
        "## Prerequisite\n",
        "\n",
        "This guide assumes that you have Python 3 installed as well as the pandas, numpy, and matplotlib packages.\n",
        "\n",
        "## Setup\n",
        "\n",
        "The `python` packages necessary for this guide are:\n",
        "\n",
        "- pandas\n",
        "- numpy\n",
        "- matplotlib\n",
        "- palmerpenguins\n",
        "\n",
        "These can be installed via pip.\n"
      ],
      "id": "cb55d1e4"
    },
    {
      "cell_type": "code",
      "metadata": {},
      "source": [
        "def ggplot_defaults():\n",
        "    [s.set_visible(False) for s in ax.spines.values()]\n",
        "    # ax.spines['top'].set_visible(False)\n",
        "    # ax.spines['bottom'].set_visible(False)\n",
        "    # ax.spines['left'].set_visible(False)\n",
        "    # ax.spines['right'].set_visible(False)\n",
        "\n",
        "    ax.set_axisbelow(True) ## draws the grid below the bars\n",
        "    ax.grid(visible = True, color = \"white\") ## turns on grid and sets lines to white\n",
        "    plt.gca().patch.set_facecolor('gainsboro') ## sets grid fill color"
      ],
      "id": "685cdea0",
      "execution_count": null,
      "outputs": []
    },
    {
      "cell_type": "markdown",
      "metadata": {},
      "source": [
        "We'll begin by loading these packages"
      ],
      "id": "5d70d893"
    },
    {
      "cell_type": "code",
      "metadata": {},
      "source": [
        "import pandas as pd\n",
        "import numpy as np\n",
        "import matplotlib.pyplot as plt\n",
        "from rdatasets import data\n",
        "from palmerpenguins import load_penguins"
      ],
      "id": "02395917",
      "execution_count": null,
      "outputs": []
    },
    {
      "cell_type": "markdown",
      "metadata": {},
      "source": [
        "and then reading in the data\n"
      ],
      "id": "4276fbd8"
    },
    {
      "cell_type": "code",
      "metadata": {},
      "source": [
        "penguins = load_penguins()\n",
        "penguins.head()"
      ],
      "id": "8ff270d3",
      "execution_count": null,
      "outputs": []
    },
    {
      "cell_type": "markdown",
      "metadata": {},
      "source": [
        "## Visualizations\n",
        "\n",
        "### Barchart\n"
      ],
      "id": "0bb56286"
    },
    {
      "cell_type": "code",
      "metadata": {},
      "source": [
        "count_by_species = penguins.groupby(\"species\").size()\n",
        "\n",
        "fig, ax = plt.subplots()\n",
        "ax.bar(x = count_by_species.index, height = count_by_species.values, color = \"dimgray\");\n",
        "ax.set_ylabel(\"count\")\n",
        "ax.set_xlabel(\"species\")\n",
        "\n",
        "## grid options\n",
        "## this allow a ggplot2 default experience\n",
        "\n",
        "\n",
        "\n",
        "ggplot2_defaults()"
      ],
      "id": "3248dbcc",
      "execution_count": null,
      "outputs": []
    },
    {
      "cell_type": "code",
      "metadata": {},
      "source": [
        "## sort the bars\n",
        "count_by_species.sort_values(ascending = False, inplace = True)\n",
        "\n",
        "fig, ax = plt.subplots()\n",
        "ax.bar(x = count_by_species.index, height = count_by_species.values, color = \"dimgray\");\n",
        "ax.set_ylabel(\"count\")\n",
        "ax.set_xlabel(\"species\")\n",
        "\n",
        "ggplot2_defaults()"
      ],
      "id": "22dcd07f",
      "execution_count": null,
      "outputs": []
    },
    {
      "cell_type": "markdown",
      "metadata": {},
      "source": [
        "### Side-by-Side Barchart\n"
      ],
      "id": "0f6efb5a"
    },
    {
      "cell_type": "code",
      "metadata": {},
      "source": [
        "count_by_species_and_year = penguins.groupby([\"species\", \"year\"]).size()\n",
        "\n",
        "csyr = pd.DataFrame({\n",
        "    \"species\": count_by_species_and_year.index.get_level_values(0),\n",
        "    \"year\": count_by_species_and_year.index.get_level_values(1),\n",
        "    \"value\": count_by_species_and_year.values\n",
        "})\n",
        "species_by_year = csyr.pivot(index = \"species\", columns = \"year\", values = \"value\")\n",
        "\n",
        "x = np.arange(len(species_by_year.index))  # the label locations\n",
        "width = 0.25  # the width of the bars\n",
        "multiplier = 0\n",
        "\n",
        "fig, ax = plt.subplots()\n",
        "\n",
        "for attribute, measurement in species_by_year.items():\n",
        "    offset = width * multiplier\n",
        "    rects = ax.bar(x + offset, measurement, width, label=attribute)\n",
        "    ax.bar_label(rects, padding=3)\n",
        "    multiplier += 1\n",
        "\n",
        "ax.set_ylabel('count')\n",
        "ax.set_xlabel('species')\n",
        "ax.set_xticks(x + width, species_by_year.index)\n",
        "ax.legend(ncols=3)\n",
        "ax.set_ylim(0, 60)\n",
        "\n",
        "ggplot2_defaults()"
      ],
      "id": "c4c88721",
      "execution_count": null,
      "outputs": []
    }
  ],
  "metadata": {
    "kernelspec": {
      "name": "python3",
      "language": "python",
      "display_name": "Python 3 (ipykernel)"
    }
  },
  "nbformat": 4,
  "nbformat_minor": 5
}